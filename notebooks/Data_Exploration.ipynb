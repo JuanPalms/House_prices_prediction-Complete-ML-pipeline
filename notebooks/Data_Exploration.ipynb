{
 "cells": [
  {
   "cell_type": "code",
   "execution_count": 1,
   "id": "e0a149da-6125-4869-b26c-b9f55e321ced",
   "metadata": {},
   "outputs": [],
   "source": [
    "import pandas as pd\n",
    "import numpy as np\n",
    "import matplotlib.pyplot as plt"
   ]
  },
  {
   "cell_type": "markdown",
   "id": "dd183e55-75f4-4347-ae8d-e5368768cecc",
   "metadata": {},
   "source": [
    "# Initial data exploration "
   ]
  },
  {
   "cell_type": "markdown",
   "id": "e0898543-e9e3-463d-80d0-290ea173f50b",
   "metadata": {},
   "source": [
    "This notebook is used to perform an initial exploration of the data to be worked on, frequent explorations are performed to decide on the preprocessing of the data for the machine learning modeling pipeline. "
   ]
  },
  {
   "cell_type": "markdown",
   "id": "42ca0cff-d38b-44c8-881f-3a1a8f3821bf",
   "metadata": {},
   "source": [
    "## Source"
   ]
  },
  {
   "cell_type": "markdown",
   "id": "09acfc1c-f1dd-4603-b802-577c06df6e84",
   "metadata": {},
   "source": [
    "Section to describe the source used to obtain the data."
   ]
  },
  {
   "cell_type": "markdown",
   "id": "9c6191f3-e379-4099-8874-e60d9b123b83",
   "metadata": {},
   "source": [
    "This exercise is based on data available in Kaggle:\n",
    "\n",
    "[House Prices - Advanced Regression Techniques](https://www.kaggle.com/competitions/house-prices-advanced-regression-techniques/data?select=train.csv)"
   ]
  },
  {
   "cell_type": "markdown",
   "id": "5d53e75b-59ec-4501-8fbe-086fa4f29f78",
   "metadata": {},
   "source": [
    "## Data  "
   ]
  },
  {
   "cell_type": "code",
   "execution_count": 2,
   "id": "a3958d66-1b23-4f93-b232-97789a68208c",
   "metadata": {},
   "outputs": [],
   "source": [
    "data_path=\"/home/juanpalms/Desktop/MCD/arquitectura_datos/Tareas/tarea3/House_prices_refactoring/data/raw\"\n",
    "#data_path=\"../data/raw\""
   ]
  },
  {
   "cell_type": "code",
   "execution_count": 3,
   "id": "cbabde38-83da-4160-a863-250f4d825419",
   "metadata": {},
   "outputs": [],
   "source": [
    "train=pd.read_csv(data_path+\"/train.csv\")"
   ]
  },
  {
   "cell_type": "markdown",
   "id": "c7097363-5f6f-4a46-b138-bb38b041f5ee",
   "metadata": {},
   "source": [
    "## Basic Understanding"
   ]
  },
  {
   "cell_type": "code",
   "execution_count": 4,
   "id": "8556be1f-8ace-4f14-90d3-7cc57710dfae",
   "metadata": {},
   "outputs": [
    {
     "name": "stdout",
     "output_type": "stream",
     "text": [
      "The data set contains:81 columns and 1460 observations\n"
     ]
    }
   ],
   "source": [
    "print(f\"The data set contains:{train.shape[1]} columns and {train.shape[0]} observations\")"
   ]
  },
  {
   "cell_type": "code",
   "execution_count": 5,
   "id": "35304a4b-e1aa-49df-bff6-247f696494c9",
   "metadata": {},
   "outputs": [
    {
     "name": "stdout",
     "output_type": "stream",
     "text": [
      "<class 'pandas.core.frame.DataFrame'>\n",
      "RangeIndex: 1460 entries, 0 to 1459\n",
      "Data columns (total 81 columns):\n",
      " #   Column         Non-Null Count  Dtype  \n",
      "---  ------         --------------  -----  \n",
      " 0   Id             1460 non-null   int64  \n",
      " 1   MSSubClass     1460 non-null   int64  \n",
      " 2   MSZoning       1460 non-null   object \n",
      " 3   LotFrontage    1201 non-null   float64\n",
      " 4   LotArea        1460 non-null   int64  \n",
      " 5   Street         1460 non-null   object \n",
      " 6   Alley          91 non-null     object \n",
      " 7   LotShape       1460 non-null   object \n",
      " 8   LandContour    1460 non-null   object \n",
      " 9   Utilities      1460 non-null   object \n",
      " 10  LotConfig      1460 non-null   object \n",
      " 11  LandSlope      1460 non-null   object \n",
      " 12  Neighborhood   1460 non-null   object \n",
      " 13  Condition1     1460 non-null   object \n",
      " 14  Condition2     1460 non-null   object \n",
      " 15  BldgType       1460 non-null   object \n",
      " 16  HouseStyle     1460 non-null   object \n",
      " 17  OverallQual    1460 non-null   int64  \n",
      " 18  OverallCond    1460 non-null   int64  \n",
      " 19  YearBuilt      1460 non-null   int64  \n",
      " 20  YearRemodAdd   1460 non-null   int64  \n",
      " 21  RoofStyle      1460 non-null   object \n",
      " 22  RoofMatl       1460 non-null   object \n",
      " 23  Exterior1st    1460 non-null   object \n",
      " 24  Exterior2nd    1460 non-null   object \n",
      " 25  MasVnrType     1452 non-null   object \n",
      " 26  MasVnrArea     1452 non-null   float64\n",
      " 27  ExterQual      1460 non-null   object \n",
      " 28  ExterCond      1460 non-null   object \n",
      " 29  Foundation     1460 non-null   object \n",
      " 30  BsmtQual       1423 non-null   object \n",
      " 31  BsmtCond       1423 non-null   object \n",
      " 32  BsmtExposure   1422 non-null   object \n",
      " 33  BsmtFinType1   1423 non-null   object \n",
      " 34  BsmtFinSF1     1460 non-null   int64  \n",
      " 35  BsmtFinType2   1422 non-null   object \n",
      " 36  BsmtFinSF2     1460 non-null   int64  \n",
      " 37  BsmtUnfSF      1460 non-null   int64  \n",
      " 38  TotalBsmtSF    1460 non-null   int64  \n",
      " 39  Heating        1460 non-null   object \n",
      " 40  HeatingQC      1460 non-null   object \n",
      " 41  CentralAir     1460 non-null   object \n",
      " 42  Electrical     1459 non-null   object \n",
      " 43  1stFlrSF       1460 non-null   int64  \n",
      " 44  2ndFlrSF       1460 non-null   int64  \n",
      " 45  LowQualFinSF   1460 non-null   int64  \n",
      " 46  GrLivArea      1460 non-null   int64  \n",
      " 47  BsmtFullBath   1460 non-null   int64  \n",
      " 48  BsmtHalfBath   1460 non-null   int64  \n",
      " 49  FullBath       1460 non-null   int64  \n",
      " 50  HalfBath       1460 non-null   int64  \n",
      " 51  BedroomAbvGr   1460 non-null   int64  \n",
      " 52  KitchenAbvGr   1460 non-null   int64  \n",
      " 53  KitchenQual    1460 non-null   object \n",
      " 54  TotRmsAbvGrd   1460 non-null   int64  \n",
      " 55  Functional     1460 non-null   object \n",
      " 56  Fireplaces     1460 non-null   int64  \n",
      " 57  FireplaceQu    770 non-null    object \n",
      " 58  GarageType     1379 non-null   object \n",
      " 59  GarageYrBlt    1379 non-null   float64\n",
      " 60  GarageFinish   1379 non-null   object \n",
      " 61  GarageCars     1460 non-null   int64  \n",
      " 62  GarageArea     1460 non-null   int64  \n",
      " 63  GarageQual     1379 non-null   object \n",
      " 64  GarageCond     1379 non-null   object \n",
      " 65  PavedDrive     1460 non-null   object \n",
      " 66  WoodDeckSF     1460 non-null   int64  \n",
      " 67  OpenPorchSF    1460 non-null   int64  \n",
      " 68  EnclosedPorch  1460 non-null   int64  \n",
      " 69  3SsnPorch      1460 non-null   int64  \n",
      " 70  ScreenPorch    1460 non-null   int64  \n",
      " 71  PoolArea       1460 non-null   int64  \n",
      " 72  PoolQC         7 non-null      object \n",
      " 73  Fence          281 non-null    object \n",
      " 74  MiscFeature    54 non-null     object \n",
      " 75  MiscVal        1460 non-null   int64  \n",
      " 76  MoSold         1460 non-null   int64  \n",
      " 77  YrSold         1460 non-null   int64  \n",
      " 78  SaleType       1460 non-null   object \n",
      " 79  SaleCondition  1460 non-null   object \n",
      " 80  SalePrice      1460 non-null   int64  \n",
      "dtypes: float64(3), int64(35), object(43)\n",
      "memory usage: 924.0+ KB\n"
     ]
    }
   ],
   "source": [
    "train.info()"
   ]
  },
  {
   "cell_type": "markdown",
   "id": "7cbd0b9d-65a6-4618-9661-b65b254b583f",
   "metadata": {},
   "source": [
    "### Column types and initial feature selection"
   ]
  },
  {
   "cell_type": "code",
   "execution_count": 6,
   "id": "afe470d7-d341-45bc-94d8-6a11ddefd8ee",
   "metadata": {},
   "outputs": [
    {
     "data": {
      "text/plain": [
       "Index(['Id', 'MSSubClass', 'MSZoning', 'LotFrontage', 'LotArea', 'Street',\n",
       "       'Alley', 'LotShape', 'LandContour', 'Utilities', 'LotConfig',\n",
       "       'LandSlope', 'Neighborhood', 'Condition1', 'Condition2', 'BldgType',\n",
       "       'HouseStyle', 'OverallQual', 'OverallCond', 'YearBuilt', 'YearRemodAdd',\n",
       "       'RoofStyle', 'RoofMatl', 'Exterior1st', 'Exterior2nd', 'MasVnrType',\n",
       "       'MasVnrArea', 'ExterQual', 'ExterCond', 'Foundation', 'BsmtQual',\n",
       "       'BsmtCond', 'BsmtExposure', 'BsmtFinType1', 'BsmtFinSF1',\n",
       "       'BsmtFinType2', 'BsmtFinSF2', 'BsmtUnfSF', 'TotalBsmtSF', 'Heating',\n",
       "       'HeatingQC', 'CentralAir', 'Electrical', '1stFlrSF', '2ndFlrSF',\n",
       "       'LowQualFinSF', 'GrLivArea', 'BsmtFullBath', 'BsmtHalfBath', 'FullBath',\n",
       "       'HalfBath', 'BedroomAbvGr', 'KitchenAbvGr', 'KitchenQual',\n",
       "       'TotRmsAbvGrd', 'Functional', 'Fireplaces', 'FireplaceQu', 'GarageType',\n",
       "       'GarageYrBlt', 'GarageFinish', 'GarageCars', 'GarageArea', 'GarageQual',\n",
       "       'GarageCond', 'PavedDrive', 'WoodDeckSF', 'OpenPorchSF',\n",
       "       'EnclosedPorch', '3SsnPorch', 'ScreenPorch', 'PoolArea', 'PoolQC',\n",
       "       'Fence', 'MiscFeature', 'MiscVal', 'MoSold', 'YrSold', 'SaleType',\n",
       "       'SaleCondition', 'SalePrice'],\n",
       "      dtype='object')"
      ]
     },
     "execution_count": 6,
     "metadata": {},
     "output_type": "execute_result"
    }
   ],
   "source": [
    "train.columns"
   ]
  },
  {
   "cell_type": "markdown",
   "id": "22339510-8422-4615-971f-34c0c69d8ca8",
   "metadata": {},
   "source": [
    "<br> Based on the business understanding, perform an initial selection of variables to make the models parsimonious and to integrate only useful variables into the preprocessing pipeline. <br> Select and store the variables that are useful for the analysis in three different lists: 1) target variables, 2) numerical (ordinal) variables and 3) categorical variables"
   ]
  },
  {
   "cell_type": "markdown",
   "id": "f2f40853-4d23-4fcf-8b67-d5a907a93155",
   "metadata": {},
   "source": [
    "#### Target variable"
   ]
  },
  {
   "cell_type": "code",
   "execution_count": 7,
   "id": "057efb5b-bf7e-4234-b49e-7cdba35fb783",
   "metadata": {},
   "outputs": [],
   "source": [
    "y=\"SalePrice\""
   ]
  },
  {
   "cell_type": "markdown",
   "id": "19da4a95-8eb3-4cf2-a2dd-bb5919229b18",
   "metadata": {},
   "source": [
    "#### Input variables"
   ]
  },
  {
   "cell_type": "code",
   "execution_count": 16,
   "id": "aecbcab8-32ab-4e3f-a247-d0ed5a6e0c50",
   "metadata": {},
   "outputs": [],
   "source": [
    "### Variables numericas (ordinales)\n",
    "numeros=[\"LotFrontage\",\"LotArea\",\"OverallQual\",\"OverallCond\",\"YearBuilt\",\"YearRemodAdd\",\n",
    "           \"MasVnrArea\",\"BsmtFinSF1\",\"BsmtFinSF2\",\"BsmtUnfSF\",\"TotalBsmtSF\",\"1stFlrSF\",\n",
    "          \"2ndFlrSF\",\"LowQualFinSF\",\"GrLivArea\",\"BsmtFullBath\",\"BsmtHalfBath\",\"FullBath\",\n",
    "          \"HalfBath\",\"BedroomAbvGr\",\"KitchenAbvGr\",\"TotRmsAbvGrd\",\"Fireplaces\",\"GarageYrBlt\",\n",
    "          \"GarageCars\",\"GarageArea\",\"WoodDeckSF\",\"OpenPorchSF\",\"EnclosedPorch\",\"3SsnPorch\",\n",
    "           \"ScreenPorch\",\"PoolArea\",\"MiscVal\",\"YrSold\",\"MoSold\"]\n",
    "## Ordinales/\n",
    "ordinales=[\"BsmtQual\",\"BsmtCond\",\"ExterCond\",\"ExterQual\",\"KitchenQual\"]\n",
    "\n",
    "### Variables categoricas\n",
    "nominales=[\"MSSubClass\",\"MSZoning\",\"Street\",\"Alley\",\"LandContour\",\"Utilities\",\n",
    "            \"LotConfig\",\"Neighborhood\",\"Condition1\",\"Condition2\",\"BldgType\",\n",
    "            \"HouseStyle\",\"RoofStyle\",\"RoofMatl\",\"Exterior1st\",\"Exterior2nd\",\"MasVnrType\",\n",
    "            \"Foundation\",\"Heating\",\"Electrical\",\"GarageType\",\"MiscFeature\",\"SaleType\",\"SaleCondition\",\"LotShape\",\"LandSlope\",\"ExterQual\"]\n",
    "### Variables para tirar\n",
    "to_drop=[\"id\",\"ILotShape\",\"LandSlope\",\"ExterQual\",\"BsmtFinType1\",\"BsmtFinType2\",\"HeatingQC\",\n",
    "           \"CentralAir\",\"KitchenQual\",\"Functional\",\"FireplaceQu\",\"GarageFinish\",\"GarageQual\",\n",
    "           \"GarageCond\",\"PavedDrive\",\"PoolQC\",\"Fence\"]"
   ]
  },
  {
   "cell_type": "markdown",
   "id": "0d4521fa-84ef-40ea-a8ff-e59f313f27dd",
   "metadata": {},
   "source": [
    "### Visualize presence of some outliers"
   ]
  },
  {
   "cell_type": "code",
   "execution_count": 87,
   "id": "a93e2d73-cafd-4168-b7f8-20bb212f47b3",
   "metadata": {},
   "outputs": [
    {
     "data": {
      "image/png": "[encoded data removed]",
      "text/plain": [
       "<Figure size 640x480 with 4 Axes>"
      ]
     },
     "metadata": {},
     "output_type": "display_data"
    }
   ],
   "source": [
    "train.hist(column=[\"LotFrontage\",\"LotArea\",\"OverallQual\"]);"
   ]
  }
 ],
 "metadata": {
  "kernelspec": {
   "display_name": "Python 3 (ipykernel)",
   "language": "python",
   "name": "python3"
  },
  "language_info": {
   "codemirror_mode": {
    "name": "ipython",
    "version": 3
   },
   "file_extension": ".py",
   "mimetype": "text/x-python",
   "name": "python",
   "nbconvert_exporter": "python",
   "pygments_lexer": "ipython3",
   "version": "3.10.6"
  }
 },
 "nbformat": 4,
 "nbformat_minor": 5
}
